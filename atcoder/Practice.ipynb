{
 "cells": [
  {
   "cell_type": "markdown",
   "id": "bored-settle",
   "metadata": {},
   "source": [
    "# 파이썬 알고리즘 연습장\n",
    "\n",
    "- 입력을 어떻게 받아야 할지 고민해 보자."
   ]
  },
  {
   "cell_type": "code",
   "execution_count": 34,
   "id": "buried-auckland",
   "metadata": {},
   "outputs": [
    {
     "name": "stdout",
     "output_type": "stream",
     "text": [
      "10\n",
      "20\n",
      "\n",
      "\n"
     ]
    }
   ],
   "source": [
    "with open(\"input.txt\") as f:\n",
    "    data = f.read()\n",
    "    print(data)"
   ]
  },
  {
   "cell_type": "code",
   "execution_count": 35,
   "id": "frequent-occasions",
   "metadata": {},
   "outputs": [
    {
     "data": {
      "text/plain": [
       "'10\\n20\\n\\n'"
      ]
     },
     "execution_count": 35,
     "metadata": {},
     "output_type": "execute_result"
    }
   ],
   "source": [
    "data"
   ]
  },
  {
   "cell_type": "code",
   "execution_count": null,
   "id": "joint-external",
   "metadata": {},
   "outputs": [],
   "source": []
  }
 ],
 "metadata": {
  "kernelspec": {
   "display_name": "Python 3",
   "language": "python",
   "name": "python3"
  },
  "language_info": {
   "codemirror_mode": {
    "name": "ipython",
    "version": 3
   },
   "file_extension": ".py",
   "mimetype": "text/x-python",
   "name": "python",
   "nbconvert_exporter": "python",
   "pygments_lexer": "ipython3",
   "version": "3.8.5"
  }
 },
 "nbformat": 4,
 "nbformat_minor": 5
}
