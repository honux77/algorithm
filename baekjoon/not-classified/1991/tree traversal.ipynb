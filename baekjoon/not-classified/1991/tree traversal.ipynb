{
 "cells": [
  {
   "cell_type": "markdown",
   "metadata": {},
   "source": [
    "# 트리 순회하기\n",
    "문제 링크: https://www.acmicpc.net/problem/1991\n",
    "\n",
    "일단 문제를 열심히 읽었는데 문제는 어렵지 않다. 기본적인 2진트리 순회니까. \n",
    "문제는 입력부를 가지고 트리를 구성하는게 더 어려운 듯한 느낌이 ㅋ. \n",
    "\n",
    "> 첫째 줄에는 이진 트리의 노드의 개수 N(1≤N≤26)이 주어진다. \n",
    "> 둘째 줄부터 N개의 줄에 걸쳐 각 노드와 그의 왼쪽 자식 노드, 오른쪽 자식 노드가 주어진다. \n",
    "> 노드의 이름은 A부터 차례대로 영문자 대문자로 매겨지며, 항상 A가 루트 노드가 된다. 자식 노드가 없는 경우에는 .으로 표현된다.\n",
    "\n",
    "먼저 트리부터 만들자.\n",
    "그리고 트리를 순회해서 노드를 찾는 메소드도 만들어야 한다. \n",
    "BST가 아니므로 BST search를 쓸 수 없음에 주의!\n",
    "값을 찾기 위해 중위순회의 변형으로 구현을 해 보았다. "
   ]
  },
  {
   "cell_type": "code",
   "execution_count": 51,
   "metadata": {},
   "outputs": [
    {
     "name": "stdout",
     "output_type": "stream",
     "text": [
      "A\n",
      "B\n",
      "C\n",
      "D\n"
     ]
    }
   ],
   "source": [
    "class TreeNode:\n",
    "    def __init__(self, value):\n",
    "        self.value = value\n",
    "        self.left = self.right = None\n",
    "    \n",
    "    # 주어진 문제의 입력을 처리하기 위한 함수\n",
    "    def insert(self, value, lvalue, rvalue):\n",
    "        # it always returns a node has value\n",
    "        node = find(self, value)\n",
    "        if lvalue != '.':\n",
    "            node.left = TreeNode(lvalue)\n",
    "        if rvalue != '.':\n",
    "            node.right = TreeNode(rvalue)\n",
    "\n",
    "# 중위순회 방식으로 트리를 뒤진다.\n",
    "def find(node, value):\n",
    "    if node is None:\n",
    "        return\n",
    "    elif node.value == value:\n",
    "        return node\n",
    "    else:\n",
    "        left = find(node.left, value)\n",
    "        if left is not None:\n",
    "            return  left\n",
    "        right = find(node.right, value)\n",
    "        return right\n",
    "\n",
    "def preorder(node, array):\n",
    "    if node is not None:\n",
    "        array.append(node.value)\n",
    "        preorder(node.left, array)\n",
    "        preorder(node.right, array)\n",
    "\n",
    "def inorder(node, array):\n",
    "    if node is not None:\n",
    "        inorder(node.left, array)\n",
    "        array.append(node.value)\n",
    "        inorder(node.right, array)\n",
    "\n",
    "def postorder(node, array):\n",
    "    if node is not None:\n",
    "        postorder(node.left, array)\n",
    "        postorder(node.right, array)\n",
    "         array.append(node.value)\n",
    "\n",
    "root = TreeNode('A')\n",
    "root.insert('A', 'B', 'C')\n",
    "root.insert('B', 'D', '.')\n",
    "\n",
    "print(find(root, 'A').value)\n",
    "print(find(root, 'B').value)\n",
    "print(find(root, 'C').value)\n",
    "print(find(root, 'D').value)\n",
    "# print(find(root, 'E').value) error"
   ]
  },
  {
   "cell_type": "markdown",
   "metadata": {},
   "source": [
    "이제 주어진 문제의 입력을 처리해 보자."
   ]
  },
  {
   "cell_type": "code",
   "execution_count": 52,
   "metadata": {},
   "outputs": [
    {
     "name": "stdout",
     "output_type": "stream",
     "text": [
      "ABDCEFG\n",
      "DBAECFG\n",
      "ABDCEFG\n"
     ]
    }
   ],
   "source": [
    "input_arr='''7\n",
    "A B C\n",
    "B D .\n",
    "C E F\n",
    "E . .\n",
    "F . G\n",
    "D . .\n",
    "G . .'''.split('\\n')\n",
    "\n",
    "input_len = input_arr[0]\n",
    "root = TreeNode('A')\n",
    "for line in input_arr[1:]:\n",
    "    arr = line.split()\n",
    "    root.insert(arr[0], arr[1], arr[2])\n",
    "\n",
    "pre = []\n",
    "in_arr = []\n",
    "post = []\n",
    "preorder(root, pre)\n",
    "inorder(root, in_arr)\n",
    "postorder(root, post)\n",
    "\n",
    "\n",
    "print(''.join(pre))\n",
    "print(''.join(in_arr))\n",
    "print(''.join(post))\n"
   ]
  }
 ],
 "metadata": {
  "kernelspec": {
   "display_name": "Python 3",
   "language": "python",
   "name": "python3"
  },
  "language_info": {
   "codemirror_mode": {
    "name": "ipython",
    "version": 3
   },
   "file_extension": ".py",
   "mimetype": "text/x-python",
   "name": "python",
   "nbconvert_exporter": "python",
   "pygments_lexer": "ipython3",
   "version": "3.6.1"
  }
 },
 "nbformat": 4,
 "nbformat_minor": 2
}
