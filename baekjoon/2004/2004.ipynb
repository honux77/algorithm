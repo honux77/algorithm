{
 "cells": [
  {
   "cell_type": "markdown",
   "metadata": {},
   "source": [
    "# 2004번 문제 풀기\n",
    "https://www.acmicpc.net/problem/2004\n",
    "\n",
    "## 팩토리얼에서 약수 세기 \n",
    "\n",
    "먼저 주어진 팩토리얼n에서 약수 k의 갯수를 카운트하는 함수를 만듭니다. 예를 들어 26!에는 5가 총 6번 (25에는 두 번 들어있으므로) 들어있습니다.\n",
    "\n",
    "나누기는 `10  / 3 = 3.33` 이므로 `10 // 3` 을 해야 합니다. (Paul 님 감사합니다.)"
   ]
  },
  {
   "cell_type": "code",
   "execution_count": 1,
   "metadata": {
    "collapsed": true
   },
   "outputs": [],
   "source": [
    "def count(n, k):\n",
    "    c = 0\n",
    "    while n > 0:\n",
    "        c += n // k\n",
    "        n = n // k \n",
    "    return c"
   ]
  },
  {
   "cell_type": "markdown",
   "metadata": {},
   "source": [
    "## 입력부\n",
    "\n",
    "숫자를 입력받는 부분을 만듭니다."
   ]
  },
  {
   "cell_type": "code",
   "execution_count": 2,
   "metadata": {
    "scrolled": true
   },
   "outputs": [
    {
     "name": "stdout",
     "output_type": "stream",
     "text": [
      "두 수를 입력하세요.\n",
      "100 10\n"
     ]
    }
   ],
   "source": [
    "print(\"두 수를 입력하세요.\")\n",
    "(n,m) = map(int, input().split())"
   ]
  },
  {
   "cell_type": "markdown",
   "metadata": {},
   "source": [
    "## 주어진 조합에서 5의 숫자와 2의 숫자 세기\n",
    "\n",
    "조합의 정의는\n",
    "> nCm = n! / (m! X (n-m)!) \n",
    "\n",
    "입니다. 따라서 아래처럼 각각을 계산합니다."
   ]
  },
  {
   "cell_type": "code",
   "execution_count": 3,
   "metadata": {
    "collapsed": true
   },
   "outputs": [],
   "source": [
    "five = count(n, 5) - count(m, 5) - count(n - m, 5)\n",
    "two = count(n, 2) - count(m, 2) - count(n - m, 2)"
   ]
  },
  {
   "cell_type": "markdown",
   "metadata": {},
   "source": [
    "## 10의 갯수 출력하기\n",
    "마지막으로 10의 갯수는 5 * 2가 10이 되므로 5의 갯수와 2의 갯수중 작은 쪽의 문제의 답이 됩니다. "
   ]
  },
  {
   "cell_type": "code",
   "execution_count": 4,
   "metadata": {},
   "outputs": [
    {
     "name": "stdout",
     "output_type": "stream",
     "text": [
      "1\n"
     ]
    }
   ],
   "source": [
    "print(min(five, two))"
   ]
  }
 ],
 "metadata": {
  "kernelspec": {
   "display_name": "Python 3",
   "language": "python",
   "name": "python3"
  },
  "language_info": {
   "codemirror_mode": {
    "name": "ipython",
    "version": 3
   },
   "file_extension": ".py",
   "mimetype": "text/x-python",
   "name": "python",
   "nbconvert_exporter": "python",
   "pygments_lexer": "ipython3",
   "version": "3.5.2"
  }
 },
 "nbformat": 4,
 "nbformat_minor": 1
}
