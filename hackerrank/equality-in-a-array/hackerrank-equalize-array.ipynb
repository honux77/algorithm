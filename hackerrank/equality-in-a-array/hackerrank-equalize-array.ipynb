{
 "cells": [
  {
   "cell_type": "markdown",
   "metadata": {},
   "source": [
    "# Equalize the Array\n",
    "문제: https://www.hackerrank.com/challenges/equality-in-a-array\n",
    "\n",
    "난이도: 매우 쉬움\n",
    "\n",
    "## 문제 설명 \n",
    "\n",
    "설명을 읽고 조금 생각해 보면 배열 전체 수 - 가장 많은 원소 수를 찾는 문제이다.\n",
    "\n",
    "dictionary를 쓰려고 하는데 기억이 안나서 간단한 테스트 코드를 짜 보았다.\n",
    "\n",
    "- number와 string은 다르게 취급됨을 확인\n",
    "- 없는 변수를 쓰면 에러가 남을 확인 \n",
    "- **`in`을 통해 키 값 존재 여부를 체크할 수 있음을 확인**"
   ]
  },
  {
   "cell_type": "code",
   "execution_count": 1,
   "metadata": {},
   "outputs": [
    {
     "name": "stdout",
     "output_type": "stream",
     "text": [
      "True\n"
     ]
    }
   ],
   "source": [
    "a = {}\n",
    "a[1] = 0\n",
    "# a[\"1\"] error\n",
    "print(1 in a)"
   ]
  },
  {
   "cell_type": "markdown",
   "metadata": {},
   "source": [
    "## 풀이 \n",
    "\n",
    "의외로 테스트 과정에서 테스트 케이스 하나가 실패했다.\n",
    "아래 코드에서 `max_counter = 0`으로 해서 발생한 문제. \n"
   ]
  },
  {
   "cell_type": "code",
   "execution_count": 2,
   "metadata": {},
   "outputs": [
    {
     "name": "stdout",
     "output_type": "stream",
     "text": [
      "5\n",
      "1 2 3 4 5\n",
      "4\n"
     ]
    }
   ],
   "source": [
    "n = int(input())\n",
    "array = input().split()\n",
    "\n",
    "counter = {}\n",
    "max_counter = 1 #very important!\n",
    "\n",
    "for c in array:\n",
    "    if c in counter:\n",
    "        counter[c] += 1\n",
    "        max_counter = max(max_counter, counter[c])\n",
    "    else:\n",
    "        counter[c] = 1\n",
    "\n",
    "print(n - max_counter)"
   ]
  }
 ],
 "metadata": {
  "kernelspec": {
   "display_name": "Python 3",
   "language": "python",
   "name": "python3"
  },
  "language_info": {
   "codemirror_mode": {
    "name": "ipython",
    "version": 3
   },
   "file_extension": ".py",
   "mimetype": "text/x-python",
   "name": "python",
   "nbconvert_exporter": "python",
   "pygments_lexer": "ipython3",
   "version": "3.6.1"
  }
 },
 "nbformat": 4,
 "nbformat_minor": 2
}
