{
 "cells": [
  {
   "cell_type": "markdown",
   "metadata": {},
   "source": [
    "# Hacker Rank 2d-array\n",
    "\n",
    "링크: https://www.hackerrank.com/challenges/2d-array\n",
    "\n",
    "## 문제 설명\n",
    "\n",
    "6 * 6 배열이 주어집니다.\n",
    "그리고 모래시계는 3*3 배열에서 가운데 (1,0) 및 (1,2)가 없는 모양을 말합니다. \n",
    "6 * 6 배열에는 총 16개의 모래시계가 있다는 걸 조금 생각해 보면 알 수 있습니다. \n",
    "16개의 모래시계 중에서 원소의 합이 가장 큰 모래시계의 합 값을 출력하는 문제입니다. \n",
    "\n",
    "### 예시 입력 \n",
    "```\n",
    "1 1 1 0 0 0\n",
    "0 1 0 0 0 0\n",
    "1 1 1 0 0 0\n",
    "0 0 2 4 4 0\n",
    "0 0 0 2 0 0\n",
    "0 0 1 2 4 0\n",
    "```\n",
    "\n",
    "### 결과\n",
    "```\n",
    "19\n",
    "```\n",
    "\n",
    "### 설명 \n",
    "```\n",
    "2 4 4\n",
    "  2\n",
    "1 2 4\n",
    "```\n",
    "위 모래시계의 합이 주어진 문제의 답입니다. "
   ]
  },
  {
   "cell_type": "code",
   "execution_count": 1,
   "metadata": {},
   "outputs": [
    {
     "name": "stdout",
     "output_type": "stream",
     "text": [
      "19\n"
     ]
    }
   ],
   "source": [
    "#!/bin/python3\n",
    "\n",
    "import sys\n",
    "\n",
    "arr = []\n",
    "myinput = '''1 1 1 0 0 0\n",
    "0 1 0 0 0 0\n",
    "1 1 1 0 0 0\n",
    "0 0 2 4 4 0\n",
    "0 0 0 2 0 0\n",
    "0 0 1 2 4 0'''.split('\\n')\n",
    "\n",
    "for line in myinput:\n",
    "   arr_t = [int(arr_temp) for arr_temp in line.strip().split(' ')]\n",
    "   arr.append(arr_t)\n",
    " \n",
    "def glass_sum(arr, i, j):\n",
    "    sum = arr[i + 1][j + 1]\n",
    "    for v in range(0,3):\n",
    "        sum += arr[i][j + v]\n",
    "        sum += arr[i + 2][j + v]\n",
    "    return sum\n",
    "\n",
    "arr_max = -100\n",
    "for i in range(4):\n",
    "    for j in range(4):\n",
    "        sum = glass_sum(arr, i, j)\n",
    "        arr_max = max(arr_max, sum)\n",
    "\n",
    "print(arr_max)"
   ]
  }
 ],
 "metadata": {
  "kernelspec": {
   "display_name": "Python 3",
   "language": "python",
   "name": "python3"
  },
  "language_info": {
   "codemirror_mode": {
    "name": "ipython",
    "version": 3
   },
   "file_extension": ".py",
   "mimetype": "text/x-python",
   "name": "python",
   "nbconvert_exporter": "python",
   "pygments_lexer": "ipython3",
   "version": "3.5.2"
  }
 },
 "nbformat": 4,
 "nbformat_minor": 2
}
