{
 "cells": [
  {
   "cell_type": "markdown",
   "metadata": {
    "collapsed": true
   },
   "source": [
    "# Hacker Rank Camel Case\n",
    "\n",
    "문제: https://www.hackerrank.com/challenges/camelcase \n",
    "        \n",
    "아주 심플한 문제로 카멜케이스 단어의 분리된 단어 수를 맞추면 된다. \n",
    "\n",
    "\n",
    "> input: helloWorldJohn\n",
    "> output: 3\n"
   ]
  },
  {
   "cell_type": "code",
   "execution_count": 1,
   "metadata": {},
   "outputs": [
    {
     "name": "stdout",
     "output_type": "stream",
     "text": [
      "5\n"
     ]
    }
   ],
   "source": [
    "#!/bin/python3\n",
    "\n",
    "import sys\n",
    "\n",
    "\n",
    "# string = input().strip()\n",
    "string = \"saveChangesInTheEditor\"\n",
    "\n",
    "count = 0\n",
    "for char in string:\n",
    "    if \"A\" <= char <= \"Z\":\n",
    "        count += 1\n",
    "\n",
    "print(count + 1)"
   ]
  }
 ],
 "metadata": {
  "kernelspec": {
   "display_name": "Python 3",
   "language": "python",
   "name": "python3"
  },
  "language_info": {
   "codemirror_mode": {
    "name": "ipython",
    "version": 3
   },
   "file_extension": ".py",
   "mimetype": "text/x-python",
   "name": "python",
   "nbconvert_exporter": "python",
   "pygments_lexer": "ipython3",
   "version": "3.6.1"
  }
 },
 "nbformat": 4,
 "nbformat_minor": 2
}
