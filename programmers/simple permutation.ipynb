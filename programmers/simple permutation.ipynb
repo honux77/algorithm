{
 "cells": [
  {
   "cell_type": "markdown",
   "metadata": {},
   "source": [
    "## permutation "
   ]
  },
  {
   "cell_type": "code",
   "execution_count": 66,
   "metadata": {
    "collapsed": true
   },
   "outputs": [],
   "source": [
    "def permutation(arr,d, n, r):\n",
    "    if r == 0:\n",
    "        print(arr[:d])\n",
    "        return\n",
    "    \n",
    "    for i in range(d, n):\n",
    "        arr[d], arr[i] = arr[i], arr[d]\n",
    "        permutation(arr, d + 1, n, r - 1)\n",
    "        arr[d], arr[i] = arr[i], arr[d]\n"
   ]
  },
  {
   "cell_type": "code",
   "execution_count": 67,
   "metadata": {
    "collapsed": false
   },
   "outputs": [
    {
     "name": "stdout",
     "output_type": "stream",
     "text": [
      "[1, 3]\n",
      "[1, 5]\n",
      "[1, 7]\n",
      "[1, 9]\n",
      "[3, 1]\n",
      "[3, 5]\n",
      "[3, 7]\n",
      "[3, 9]\n",
      "[5, 3]\n",
      "[5, 1]\n",
      "[5, 7]\n",
      "[5, 9]\n",
      "[7, 3]\n",
      "[7, 5]\n",
      "[7, 1]\n",
      "[7, 9]\n",
      "[9, 3]\n",
      "[9, 5]\n",
      "[9, 7]\n",
      "[9, 1]\n"
     ]
    }
   ],
   "source": [
    "arr = [1, 3, 5, 7, 9]\n",
    "permutation(arr,0, 5, 2)"
   ]
  },
  {
   "cell_type": "code",
   "execution_count": null,
   "metadata": {
    "collapsed": true
   },
   "outputs": [],
   "source": []
  }
 ],
 "metadata": {
  "kernelspec": {
   "display_name": "Python 3",
   "language": "python",
   "name": "python3"
  },
  "language_info": {
   "codemirror_mode": {
    "name": "ipython",
    "version": 3
   },
   "file_extension": ".py",
   "mimetype": "text/x-python",
   "name": "python",
   "nbconvert_exporter": "python",
   "pygments_lexer": "ipython3",
   "version": "3.6.0"
  }
 },
 "nbformat": 4,
 "nbformat_minor": 2
}
