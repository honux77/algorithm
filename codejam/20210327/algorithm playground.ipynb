{
 "cells": [
  {
   "cell_type": "code",
   "execution_count": 3,
   "metadata": {},
   "outputs": [],
   "source": [
    "a = list(range(1, 5))"
   ]
  },
  {
   "cell_type": "code",
   "execution_count": 4,
   "metadata": {},
   "outputs": [
    {
     "data": {
      "text/plain": [
       "[1, 2, 3, 4]"
      ]
     },
     "execution_count": 4,
     "metadata": {},
     "output_type": "execute_result"
    }
   ],
   "source": [
    "a"
   ]
  },
  {
   "cell_type": "code",
   "execution_count": 5,
   "metadata": {},
   "outputs": [],
   "source": [
    "from itertools import permutations"
   ]
  },
  {
   "cell_type": "code",
   "execution_count": 7,
   "metadata": {},
   "outputs": [],
   "source": [
    "r = permutations(a, 4)"
   ]
  },
  {
   "cell_type": "code",
   "execution_count": 8,
   "metadata": {},
   "outputs": [
    {
     "name": "stdout",
     "output_type": "stream",
     "text": [
      "(1, 2, 3, 4)\n",
      "(1, 2, 4, 3)\n",
      "(1, 3, 2, 4)\n",
      "(1, 3, 4, 2)\n",
      "(1, 4, 2, 3)\n",
      "(1, 4, 3, 2)\n",
      "(2, 1, 3, 4)\n",
      "(2, 1, 4, 3)\n",
      "(2, 3, 1, 4)\n",
      "(2, 3, 4, 1)\n",
      "(2, 4, 1, 3)\n",
      "(2, 4, 3, 1)\n",
      "(3, 1, 2, 4)\n",
      "(3, 1, 4, 2)\n",
      "(3, 2, 1, 4)\n",
      "(3, 2, 4, 1)\n",
      "(3, 4, 1, 2)\n",
      "(3, 4, 2, 1)\n",
      "(4, 1, 2, 3)\n",
      "(4, 1, 3, 2)\n",
      "(4, 2, 1, 3)\n",
      "(4, 2, 3, 1)\n",
      "(4, 3, 1, 2)\n",
      "(4, 3, 2, 1)\n"
     ]
    }
   ],
   "source": [
    "for a in r:\n",
    "    print(a)"
   ]
  },
  {
   "cell_type": "code",
   "execution_count": null,
   "metadata": {},
   "outputs": [],
   "source": []
  }
 ],
 "metadata": {
  "kernelspec": {
   "display_name": "Python 3",
   "language": "python",
   "name": "python3"
  },
  "language_info": {
   "codemirror_mode": {
    "name": "ipython",
    "version": 3
   },
   "file_extension": ".py",
   "mimetype": "text/x-python",
   "name": "python",
   "nbconvert_exporter": "python",
   "pygments_lexer": "ipython3",
   "version": "3.8.5"
  }
 },
 "nbformat": 4,
 "nbformat_minor": 4
}
